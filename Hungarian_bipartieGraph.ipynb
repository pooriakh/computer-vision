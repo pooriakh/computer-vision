{
  "nbformat": 4,
  "nbformat_minor": 0,
  "metadata": {
    "colab": {
      "name": "Hungarian_bipartieGraph.ipynb",
      "provenance": [],
      "authorship_tag": "ABX9TyMGrzCnqowDURzZ7pYHDsAf",
      "include_colab_link": true
    },
    "kernelspec": {
      "name": "python3",
      "display_name": "Python 3"
    },
    "language_info": {
      "name": "python"
    }
  },
  "cells": [
    {
      "cell_type": "markdown",
      "metadata": {
        "id": "view-in-github",
        "colab_type": "text"
      },
      "source": [
        "<a href=\"https://colab.research.google.com/github/pooriakh/computer-vision/blob/master/Hungarian_bipartieGraph.ipynb\" target=\"_parent\"><img src=\"https://colab.research.google.com/assets/colab-badge.svg\" alt=\"Open In Colab\"/></a>"
      ]
    },
    {
      "cell_type": "code",
      "metadata": {
        "id": "24f1hWrbywcf"
      },
      "source": [
        "import numpy as np"
      ],
      "execution_count": 1,
      "outputs": []
    },
    {
      "cell_type": "markdown",
      "metadata": {
        "id": "nYjAl6cg-Eqc"
      },
      "source": [
        "# first we start with the Hungarian algorithm\n",
        "\n",
        "\n",
        "https://pypi.org/project/hungarian-algorithm/"
      ]
    },
    {
      "cell_type": "code",
      "metadata": {
        "colab": {
          "base_uri": "https://localhost:8080/"
        },
        "id": "VD0qmxbAy5iu",
        "outputId": "b21c65d7-0649-46e7-e717-227847ef287f"
      },
      "source": [
        "!pip3 install hungarian-algorithm"
      ],
      "execution_count": 2,
      "outputs": [
        {
          "output_type": "stream",
          "text": [
            "Requirement already satisfied: hungarian-algorithm in /usr/local/lib/python3.7/dist-packages (0.1.11)\n"
          ],
          "name": "stdout"
        }
      ]
    },
    {
      "cell_type": "code",
      "metadata": {
        "colab": {
          "base_uri": "https://localhost:8080/"
        },
        "id": "bAfZAjuzzuns",
        "outputId": "aa9337ba-6d64-4810-b0c3-bb20b2b3f46d"
      },
      "source": [
        "from hungarian_algorithm import algorithm\n",
        "\n",
        "G = {\n",
        "\t'Ann': {'RB': 3, 'CAM': 2, 'GK': 1},\n",
        "\t'Ben': {'LW': 3, 'S': 2, 'CM': 1},\n",
        "\t'Cal': {'CAM': 3, 'RW': 2, 'SWP': 1},\n",
        "\t'Dan': {'S': 3, 'LW': 2, 'GK': 1},\n",
        "\t'Ela': {'GK': 3, 'LW': 2, 'F': 1},\n",
        "\t'Fae': {'CM': 3, 'GK': 2, 'CAM': 1},\n",
        "\t'Gio': {'GK': 3, 'CM': 2, 'S': 1},\n",
        "\t'Hol': {'CAM': 3, 'F': 2, 'SWP': 1},\n",
        "\t'Ian': {'S': 3, 'RW': 2, 'RB': 1},\n",
        "\t'Jon': {'F': 3, 'LW': 2, 'CB': 1},\n",
        "\t'Kay': {'GK': 3, 'RW': 2, 'LW': 1, 'LB': 0}\n",
        "}\n",
        "\n",
        "print(algorithm.find_matching(G, matching_type = 'max', return_type = 'total'))\n",
        "\n",
        "print(algorithm.find_matching(G, matching_type = 'max', return_type = 'list'))\n"
      ],
      "execution_count": 3,
      "outputs": [
        {
          "output_type": "stream",
          "text": [
            "24\n",
            "[(('Ann', 'RB'), 3), (('Hol', 'CAM'), 3), (('Jon', 'F'), 3), (('Cal', 'SWP'), 1), (('Fae', 'CM'), 3), (('Kay', 'RW'), 2), (('Dan', 'LB'), 0), (('Ben', 'LW'), 3), (('Ian', 'S'), 3), (('Ela', 'GK'), 3), (('Gio', 'CB'), 0)]\n"
          ],
          "name": "stdout"
        }
      ]
    },
    {
      "cell_type": "code",
      "metadata": {
        "colab": {
          "base_uri": "https://localhost:8080/"
        },
        "id": "uOrEvvVDzzwL",
        "outputId": "77cfeecc-84b0-4aa4-b362-f1851e95fc1c"
      },
      "source": [
        "G = {\n",
        "\t'r1': {'c1': 3, 'c2': 2, 'c3': 3},\n",
        "\t'r2': {'c1': 2, 'c2': 1, 'c3': 3},\n",
        "\t'r3': {'c1': 4, 'c2': 5, 'c3': 1}\n",
        "}\n",
        "\n",
        "print(algorithm.find_matching(G, matching_type = 'max', return_type = 'total'))\n",
        "\n",
        "print(algorithm.find_matching(G, matching_type = 'max', return_type = 'list'))\n",
        "\n",
        "sol = algorithm.find_matching(G, matching_type = 'max', return_type = 'list')"
      ],
      "execution_count": 4,
      "outputs": [
        {
          "output_type": "stream",
          "text": [
            "11\n",
            "[(('r1', 'c1'), 3), (('r3', 'c2'), 5), (('r2', 'c3'), 3)]\n"
          ],
          "name": "stdout"
        }
      ]
    },
    {
      "cell_type": "code",
      "metadata": {
        "colab": {
          "base_uri": "https://localhost:8080/",
          "height": 262
        },
        "id": "07YUJ0ku1Anu",
        "outputId": "4dd06f82-aed2-40b6-96a5-6acc6d961f85"
      },
      "source": [
        "from tabulate import tabulate\n",
        "import pandas as pd\n",
        "\n",
        "# df = pd.DataFrame({'c1' : [3,2,4],\n",
        "#                    'c2' : [2,1,5],\n",
        "#                    'c3' : [3,3,1]\n",
        "#                    },index=['r1','r2','r3'])\n",
        "\n",
        "col = ['c1','c2','c3']\n",
        "index=['r1','r2','r3']\n",
        "data = np.array([[3,2,3],\n",
        "                 [2,1,3],\n",
        "                 [4,5,1]])\n",
        "df = pd.DataFrame(data,\n",
        "                  columns=col,\n",
        "                  index=index)\n",
        "\n",
        "\n",
        "print(tabulate(df, headers='keys', tablefmt='psql'))\n",
        "\n",
        "df[:] = 0\n",
        "for i in sol:\n",
        "    df.loc[i[0][0]][i[0][1]]=i[1]\n",
        "df"
      ],
      "execution_count": 5,
      "outputs": [
        {
          "output_type": "stream",
          "text": [
            "+----+------+------+------+\n",
            "|    |   c1 |   c2 |   c3 |\n",
            "|----+------+------+------|\n",
            "| r1 |    3 |    2 |    3 |\n",
            "| r2 |    2 |    1 |    3 |\n",
            "| r3 |    4 |    5 |    1 |\n",
            "+----+------+------+------+\n"
          ],
          "name": "stdout"
        },
        {
          "output_type": "execute_result",
          "data": {
            "text/html": [
              "<div>\n",
              "<style scoped>\n",
              "    .dataframe tbody tr th:only-of-type {\n",
              "        vertical-align: middle;\n",
              "    }\n",
              "\n",
              "    .dataframe tbody tr th {\n",
              "        vertical-align: top;\n",
              "    }\n",
              "\n",
              "    .dataframe thead th {\n",
              "        text-align: right;\n",
              "    }\n",
              "</style>\n",
              "<table border=\"1\" class=\"dataframe\">\n",
              "  <thead>\n",
              "    <tr style=\"text-align: right;\">\n",
              "      <th></th>\n",
              "      <th>c1</th>\n",
              "      <th>c2</th>\n",
              "      <th>c3</th>\n",
              "    </tr>\n",
              "  </thead>\n",
              "  <tbody>\n",
              "    <tr>\n",
              "      <th>r1</th>\n",
              "      <td>3</td>\n",
              "      <td>0</td>\n",
              "      <td>0</td>\n",
              "    </tr>\n",
              "    <tr>\n",
              "      <th>r2</th>\n",
              "      <td>0</td>\n",
              "      <td>0</td>\n",
              "      <td>3</td>\n",
              "    </tr>\n",
              "    <tr>\n",
              "      <th>r3</th>\n",
              "      <td>0</td>\n",
              "      <td>5</td>\n",
              "      <td>0</td>\n",
              "    </tr>\n",
              "  </tbody>\n",
              "</table>\n",
              "</div>"
            ],
            "text/plain": [
              "    c1  c2  c3\n",
              "r1   3   0   0\n",
              "r2   0   0   3\n",
              "r3   0   5   0"
            ]
          },
          "metadata": {
            "tags": []
          },
          "execution_count": 5
        }
      ]
    },
    {
      "cell_type": "markdown",
      "metadata": {
        "id": "ximGCc5p_FR2"
      },
      "source": [
        "# Graph \n",
        "https://www.datacamp.com/community/tutorials/networkx-python-graph-tutorial?utm_source=adwords_ppc&utm_campaignid=898687156&utm_adgroupid=48947256715&utm_device=c&utm_keyword=&utm_matchtype=b&utm_network=g&utm_adpostion=&utm_creative=332602034343&utm_targetid=aud-517318242147:dsa-429603003980&utm_loc_interest_ms=&utm_loc_physical_ms=9068244&gclid=CjwKCAjw07qDBhBxEiwA6pPbHioFxPYL6aQvDcgead0PaPbbpGz6er0lcEERqH9isn76reOYT1Ft3BoCkKEQAvD_BwE"
      ]
    },
    {
      "cell_type": "code",
      "metadata": {
        "id": "0TuBiSb2_Hao"
      },
      "source": [
        ""
      ],
      "execution_count": 5,
      "outputs": []
    }
  ]
}