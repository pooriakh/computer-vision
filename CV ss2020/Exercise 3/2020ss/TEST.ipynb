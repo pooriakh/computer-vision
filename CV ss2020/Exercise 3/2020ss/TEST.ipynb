{
 "cells": [
  {
   "cell_type": "code",
   "execution_count": 1,
   "metadata": {},
   "outputs": [],
   "source": [
    "import numpy as np\n",
    "import cv2"
   ]
  },
  {
   "cell_type": "markdown",
   "metadata": {},
   "source": [
    "# 2"
   ]
  },
  {
   "cell_type": "code",
   "execution_count": 2,
   "metadata": {},
   "outputs": [
    {
     "data": {
      "text/plain": [
       "(16, 16, 16)"
      ]
     },
     "execution_count": 2,
     "metadata": {},
     "output_type": "execute_result"
    }
   ],
   "source": [
    "n_bins = 16\n",
    "histogram = np.zeros([n_bins, n_bins, n_bins], dtype=np.float32)\n",
    "histogram.shape"
   ]
  },
  {
   "cell_type": "code",
   "execution_count": 3,
   "metadata": {},
   "outputs": [],
   "source": [
    "import imageio\n",
    "\n",
    "paths = ['sunset.png', 'terrain.png']\n",
    "images = [imageio.imread(p) for p in paths]\n",
    "im = imageio.imread(paths[0]).astype(np.float32)/256\n",
    "histogram = np.zeros([n_bins, n_bins, n_bins], dtype=np.float32)\n",
    "\n",
    "### BEGIN SOLUTION\n",
    "binned_im = (im * n_bins).astype(int)\n",
    "#     height, width = im.shape[:2]\n",
    "#     for i in range(height):\n",
    "#         for j in range(width):\n",
    "#             R_bin = binned_im[i, j, 0]\n",
    "#             G_bin = binned_im[i, j, 1]ram\n",
    "#             B_bin = binned_im[i, j, 2]\n",
    "#             histogram[R_bin, G_bin, B_bin] += 1\n",
    "\n",
    "np.add.at(histogram, (binned_im[..., 0], binned_im[..., 1], binned_im[..., 2]), 1)\n",
    "histogram /= np.sum(histogram)"
   ]
  },
  {
   "cell_type": "code",
   "execution_count": 4,
   "metadata": {},
   "outputs": [
    {
     "data": {
      "text/plain": [
       "112"
      ]
     },
     "execution_count": 4,
     "metadata": {},
     "output_type": "execute_result"
    }
   ],
   "source": [
    "len(np.unique(histogram))"
   ]
  },
  {
   "cell_type": "code",
   "execution_count": 5,
   "metadata": {},
   "outputs": [
    {
     "data": {
      "text/plain": [
       "(225, 300, 3)"
      ]
     },
     "execution_count": 5,
     "metadata": {},
     "output_type": "execute_result"
    }
   ],
   "source": [
    "binned_im.shape"
   ]
  },
  {
   "cell_type": "code",
   "execution_count": 6,
   "metadata": {},
   "outputs": [
    {
     "data": {
      "text/plain": [
       "Array([[[9, 7, 6],\n",
       "        [9, 7, 6],\n",
       "        [9, 7, 6],\n",
       "        ...,\n",
       "        [9, 7, 6],\n",
       "        [9, 7, 6],\n",
       "        [9, 7, 6]],\n",
       "\n",
       "       [[9, 7, 6],\n",
       "        [9, 7, 6],\n",
       "        [9, 8, 6],\n",
       "        ...,\n",
       "        [9, 7, 6],\n",
       "        [9, 7, 6],\n",
       "        [9, 7, 6]],\n",
       "\n",
       "       [[9, 7, 6],\n",
       "        [9, 7, 6],\n",
       "        [9, 7, 6],\n",
       "        ...,\n",
       "        [9, 7, 6],\n",
       "        [9, 7, 6],\n",
       "        [9, 7, 6]],\n",
       "\n",
       "       ...,\n",
       "\n",
       "       [[7, 5, 4],\n",
       "        [7, 5, 4],\n",
       "        [7, 5, 4],\n",
       "        ...,\n",
       "        [7, 5, 4],\n",
       "        [7, 5, 4],\n",
       "        [7, 5, 4]],\n",
       "\n",
       "       [[7, 6, 4],\n",
       "        [7, 6, 4],\n",
       "        [7, 6, 4],\n",
       "        ...,\n",
       "        [7, 6, 4],\n",
       "        [7, 5, 4],\n",
       "        [7, 5, 4]],\n",
       "\n",
       "       [[6, 6, 4],\n",
       "        [7, 6, 4],\n",
       "        [7, 6, 4],\n",
       "        ...,\n",
       "        [6, 5, 3],\n",
       "        [6, 5, 3],\n",
       "        [6, 5, 3]]])"
      ]
     },
     "execution_count": 6,
     "metadata": {},
     "output_type": "execute_result"
    }
   ],
   "source": [
    "binned_im"
   ]
  },
  {
   "cell_type": "code",
   "execution_count": 7,
   "metadata": {},
   "outputs": [],
   "source": [
    "data = im\n",
    "r,g,b = np.meshgrid(*[np.linspace(0,1, dim) for dim in data.shape], indexing='ij')\n"
   ]
  },
  {
   "cell_type": "code",
   "execution_count": 8,
   "metadata": {},
   "outputs": [
    {
     "data": {
      "text/plain": [
       "(225, 300, 3)"
      ]
     },
     "execution_count": 8,
     "metadata": {},
     "output_type": "execute_result"
    }
   ],
   "source": [
    "r.shape"
   ]
  },
  {
   "cell_type": "code",
   "execution_count": 9,
   "metadata": {},
   "outputs": [
    {
     "data": {
      "text/plain": [
       "(225, 300, 3)"
      ]
     },
     "execution_count": 9,
     "metadata": {},
     "output_type": "execute_result"
    }
   ],
   "source": [
    "g.shape"
   ]
  },
  {
   "cell_type": "code",
   "execution_count": 10,
   "metadata": {},
   "outputs": [
    {
     "data": {
      "text/plain": [
       "[array([0.        , 0.00446429, 0.00892857, 0.01339286, 0.01785714,\n",
       "        0.02232143, 0.02678571, 0.03125   , 0.03571429, 0.04017857,\n",
       "        0.04464286, 0.04910714, 0.05357143, 0.05803571, 0.0625    ,\n",
       "        0.06696429, 0.07142857, 0.07589286, 0.08035714, 0.08482143,\n",
       "        0.08928571, 0.09375   , 0.09821429, 0.10267857, 0.10714286,\n",
       "        0.11160714, 0.11607143, 0.12053571, 0.125     , 0.12946429,\n",
       "        0.13392857, 0.13839286, 0.14285714, 0.14732143, 0.15178571,\n",
       "        0.15625   , 0.16071429, 0.16517857, 0.16964286, 0.17410714,\n",
       "        0.17857143, 0.18303571, 0.1875    , 0.19196429, 0.19642857,\n",
       "        0.20089286, 0.20535714, 0.20982143, 0.21428571, 0.21875   ,\n",
       "        0.22321429, 0.22767857, 0.23214286, 0.23660714, 0.24107143,\n",
       "        0.24553571, 0.25      , 0.25446429, 0.25892857, 0.26339286,\n",
       "        0.26785714, 0.27232143, 0.27678571, 0.28125   , 0.28571429,\n",
       "        0.29017857, 0.29464286, 0.29910714, 0.30357143, 0.30803571,\n",
       "        0.3125    , 0.31696429, 0.32142857, 0.32589286, 0.33035714,\n",
       "        0.33482143, 0.33928571, 0.34375   , 0.34821429, 0.35267857,\n",
       "        0.35714286, 0.36160714, 0.36607143, 0.37053571, 0.375     ,\n",
       "        0.37946429, 0.38392857, 0.38839286, 0.39285714, 0.39732143,\n",
       "        0.40178571, 0.40625   , 0.41071429, 0.41517857, 0.41964286,\n",
       "        0.42410714, 0.42857143, 0.43303571, 0.4375    , 0.44196429,\n",
       "        0.44642857, 0.45089286, 0.45535714, 0.45982143, 0.46428571,\n",
       "        0.46875   , 0.47321429, 0.47767857, 0.48214286, 0.48660714,\n",
       "        0.49107143, 0.49553571, 0.5       , 0.50446429, 0.50892857,\n",
       "        0.51339286, 0.51785714, 0.52232143, 0.52678571, 0.53125   ,\n",
       "        0.53571429, 0.54017857, 0.54464286, 0.54910714, 0.55357143,\n",
       "        0.55803571, 0.5625    , 0.56696429, 0.57142857, 0.57589286,\n",
       "        0.58035714, 0.58482143, 0.58928571, 0.59375   , 0.59821429,\n",
       "        0.60267857, 0.60714286, 0.61160714, 0.61607143, 0.62053571,\n",
       "        0.625     , 0.62946429, 0.63392857, 0.63839286, 0.64285714,\n",
       "        0.64732143, 0.65178571, 0.65625   , 0.66071429, 0.66517857,\n",
       "        0.66964286, 0.67410714, 0.67857143, 0.68303571, 0.6875    ,\n",
       "        0.69196429, 0.69642857, 0.70089286, 0.70535714, 0.70982143,\n",
       "        0.71428571, 0.71875   , 0.72321429, 0.72767857, 0.73214286,\n",
       "        0.73660714, 0.74107143, 0.74553571, 0.75      , 0.75446429,\n",
       "        0.75892857, 0.76339286, 0.76785714, 0.77232143, 0.77678571,\n",
       "        0.78125   , 0.78571429, 0.79017857, 0.79464286, 0.79910714,\n",
       "        0.80357143, 0.80803571, 0.8125    , 0.81696429, 0.82142857,\n",
       "        0.82589286, 0.83035714, 0.83482143, 0.83928571, 0.84375   ,\n",
       "        0.84821429, 0.85267857, 0.85714286, 0.86160714, 0.86607143,\n",
       "        0.87053571, 0.875     , 0.87946429, 0.88392857, 0.88839286,\n",
       "        0.89285714, 0.89732143, 0.90178571, 0.90625   , 0.91071429,\n",
       "        0.91517857, 0.91964286, 0.92410714, 0.92857143, 0.93303571,\n",
       "        0.9375    , 0.94196429, 0.94642857, 0.95089286, 0.95535714,\n",
       "        0.95982143, 0.96428571, 0.96875   , 0.97321429, 0.97767857,\n",
       "        0.98214286, 0.98660714, 0.99107143, 0.99553571, 1.        ]),\n",
       " array([0.        , 0.00334448, 0.00668896, 0.01003344, 0.01337793,\n",
       "        0.01672241, 0.02006689, 0.02341137, 0.02675585, 0.03010033,\n",
       "        0.03344482, 0.0367893 , 0.04013378, 0.04347826, 0.04682274,\n",
       "        0.05016722, 0.05351171, 0.05685619, 0.06020067, 0.06354515,\n",
       "        0.06688963, 0.07023411, 0.0735786 , 0.07692308, 0.08026756,\n",
       "        0.08361204, 0.08695652, 0.090301  , 0.09364548, 0.09698997,\n",
       "        0.10033445, 0.10367893, 0.10702341, 0.11036789, 0.11371237,\n",
       "        0.11705686, 0.12040134, 0.12374582, 0.1270903 , 0.13043478,\n",
       "        0.13377926, 0.13712375, 0.14046823, 0.14381271, 0.14715719,\n",
       "        0.15050167, 0.15384615, 0.15719064, 0.16053512, 0.1638796 ,\n",
       "        0.16722408, 0.17056856, 0.17391304, 0.17725753, 0.18060201,\n",
       "        0.18394649, 0.18729097, 0.19063545, 0.19397993, 0.19732441,\n",
       "        0.2006689 , 0.20401338, 0.20735786, 0.21070234, 0.21404682,\n",
       "        0.2173913 , 0.22073579, 0.22408027, 0.22742475, 0.23076923,\n",
       "        0.23411371, 0.23745819, 0.24080268, 0.24414716, 0.24749164,\n",
       "        0.25083612, 0.2541806 , 0.25752508, 0.26086957, 0.26421405,\n",
       "        0.26755853, 0.27090301, 0.27424749, 0.27759197, 0.28093645,\n",
       "        0.28428094, 0.28762542, 0.2909699 , 0.29431438, 0.29765886,\n",
       "        0.30100334, 0.30434783, 0.30769231, 0.31103679, 0.31438127,\n",
       "        0.31772575, 0.32107023, 0.32441472, 0.3277592 , 0.33110368,\n",
       "        0.33444816, 0.33779264, 0.34113712, 0.34448161, 0.34782609,\n",
       "        0.35117057, 0.35451505, 0.35785953, 0.36120401, 0.36454849,\n",
       "        0.36789298, 0.37123746, 0.37458194, 0.37792642, 0.3812709 ,\n",
       "        0.38461538, 0.38795987, 0.39130435, 0.39464883, 0.39799331,\n",
       "        0.40133779, 0.40468227, 0.40802676, 0.41137124, 0.41471572,\n",
       "        0.4180602 , 0.42140468, 0.42474916, 0.42809365, 0.43143813,\n",
       "        0.43478261, 0.43812709, 0.44147157, 0.44481605, 0.44816054,\n",
       "        0.45150502, 0.4548495 , 0.45819398, 0.46153846, 0.46488294,\n",
       "        0.46822742, 0.47157191, 0.47491639, 0.47826087, 0.48160535,\n",
       "        0.48494983, 0.48829431, 0.4916388 , 0.49498328, 0.49832776,\n",
       "        0.50167224, 0.50501672, 0.5083612 , 0.51170569, 0.51505017,\n",
       "        0.51839465, 0.52173913, 0.52508361, 0.52842809, 0.53177258,\n",
       "        0.53511706, 0.53846154, 0.54180602, 0.5451505 , 0.54849498,\n",
       "        0.55183946, 0.55518395, 0.55852843, 0.56187291, 0.56521739,\n",
       "        0.56856187, 0.57190635, 0.57525084, 0.57859532, 0.5819398 ,\n",
       "        0.58528428, 0.58862876, 0.59197324, 0.59531773, 0.59866221,\n",
       "        0.60200669, 0.60535117, 0.60869565, 0.61204013, 0.61538462,\n",
       "        0.6187291 , 0.62207358, 0.62541806, 0.62876254, 0.63210702,\n",
       "        0.63545151, 0.63879599, 0.64214047, 0.64548495, 0.64882943,\n",
       "        0.65217391, 0.65551839, 0.65886288, 0.66220736, 0.66555184,\n",
       "        0.66889632, 0.6722408 , 0.67558528, 0.67892977, 0.68227425,\n",
       "        0.68561873, 0.68896321, 0.69230769, 0.69565217, 0.69899666,\n",
       "        0.70234114, 0.70568562, 0.7090301 , 0.71237458, 0.71571906,\n",
       "        0.71906355, 0.72240803, 0.72575251, 0.72909699, 0.73244147,\n",
       "        0.73578595, 0.73913043, 0.74247492, 0.7458194 , 0.74916388,\n",
       "        0.75250836, 0.75585284, 0.75919732, 0.76254181, 0.76588629,\n",
       "        0.76923077, 0.77257525, 0.77591973, 0.77926421, 0.7826087 ,\n",
       "        0.78595318, 0.78929766, 0.79264214, 0.79598662, 0.7993311 ,\n",
       "        0.80267559, 0.80602007, 0.80936455, 0.81270903, 0.81605351,\n",
       "        0.81939799, 0.82274247, 0.82608696, 0.82943144, 0.83277592,\n",
       "        0.8361204 , 0.83946488, 0.84280936, 0.84615385, 0.84949833,\n",
       "        0.85284281, 0.85618729, 0.85953177, 0.86287625, 0.86622074,\n",
       "        0.86956522, 0.8729097 , 0.87625418, 0.87959866, 0.88294314,\n",
       "        0.88628763, 0.88963211, 0.89297659, 0.89632107, 0.89966555,\n",
       "        0.90301003, 0.90635452, 0.909699  , 0.91304348, 0.91638796,\n",
       "        0.91973244, 0.92307692, 0.9264214 , 0.92976589, 0.93311037,\n",
       "        0.93645485, 0.93979933, 0.94314381, 0.94648829, 0.94983278,\n",
       "        0.95317726, 0.95652174, 0.95986622, 0.9632107 , 0.96655518,\n",
       "        0.96989967, 0.97324415, 0.97658863, 0.97993311, 0.98327759,\n",
       "        0.98662207, 0.98996656, 0.99331104, 0.99665552, 1.        ]),\n",
       " array([0. , 0.5, 1. ])]"
      ]
     },
     "execution_count": 10,
     "metadata": {},
     "output_type": "execute_result"
    }
   ],
   "source": [
    "[np.linspace(0,1, dim) for dim in data.shape]"
   ]
  },
  {
   "cell_type": "code",
   "execution_count": 11,
   "metadata": {},
   "outputs": [
    {
     "data": {
      "text/plain": [
       "3"
      ]
     },
     "execution_count": 11,
     "metadata": {},
     "output_type": "execute_result"
    }
   ],
   "source": [
    "# two arrays for x,y location , one array for channel\n",
    "len([np.linspace(0,1, dim) for dim in data.shape])"
   ]
  },
  {
   "cell_type": "code",
   "execution_count": 12,
   "metadata": {},
   "outputs": [
    {
     "data": {
      "text/plain": [
       "array([[0. , 0. , 0. ],\n",
       "       [0. , 0. , 0.5],\n",
       "       [0. , 0. , 1. ],\n",
       "       ...,\n",
       "       [1. , 1. , 0. ],\n",
       "       [1. , 1. , 0.5],\n",
       "       [1. , 1. , 1. ]])"
      ]
     },
     "execution_count": 12,
     "metadata": {},
     "output_type": "execute_result"
    }
   ],
   "source": [
    "colors = np.stack([r,g,b], axis=-1).reshape(-1, 3)\n",
    "colors"
   ]
  },
  {
   "cell_type": "code",
   "execution_count": 13,
   "metadata": {},
   "outputs": [
    {
     "data": {
      "text/plain": [
       "(202500, 3)"
      ]
     },
     "execution_count": 13,
     "metadata": {},
     "output_type": "execute_result"
    }
   ],
   "source": [
    "colors.shape"
   ]
  },
  {
   "cell_type": "code",
   "execution_count": 14,
   "metadata": {},
   "outputs": [
    {
     "data": {
      "text/plain": [
       "(299.60886, 'shape-->', (225, 300, 3))"
      ]
     },
     "execution_count": 14,
     "metadata": {},
     "output_type": "execute_result"
    }
   ],
   "source": [
    "marker_sizes = 300 * data**(1/3)\n",
    "marker_sizes.max(),\"shape-->\",marker_sizes.shape"
   ]
  },
  {
   "cell_type": "code",
   "execution_count": 15,
   "metadata": {},
   "outputs": [
    {
     "data": {
      "text/plain": [
       "<numpy.flatiter at 0x563e31dcedf0>"
      ]
     },
     "execution_count": 15,
     "metadata": {},
     "output_type": "execute_result"
    }
   ],
   "source": [
    "marker_sizes.flat"
   ]
  },
  {
   "cell_type": "markdown",
   "metadata": {},
   "source": [
    "# 3"
   ]
  },
  {
   "cell_type": "code",
   "execution_count": 16,
   "metadata": {},
   "outputs": [
    {
     "name": "stderr",
     "output_type": "stream",
     "text": [
      "\n",
      "Bad key \"text.kerning_factor\" on line 4 in\n",
      "/home/pk/anaconda3/lib/python3.6/site-packages/matplotlib/mpl-data/stylelib/_classic_test_patch.mplstyle.\n",
      "You probably need to get an updated matplotlibrc file from\n",
      "https://github.com/matplotlib/matplotlib/blob/v3.1.3/matplotlibrc.template\n",
      "or from the matplotlib source distribution\n"
     ]
    }
   ],
   "source": [
    "%matplotlib notebook\n",
    "\n",
    "import numpy as np\n",
    "import matplotlib.pyplot as plt\n",
    "import imageio\n",
    "import cv2\n",
    "import math\n",
    "from scipy import ndimage\n",
    "# AttrDict is an MIT-licensed library that provides mapping objects that \n",
    "# allow their elements to be accessed both as keys and as attributes\n",
    "from attrdict import AttrDict\n",
    "from mpl_toolkits.mplot3d import Axes3D\n",
    "\n",
    "# Many useful functions\n",
    "def plot_multiple(images, titles=None, colormap='gray',\n",
    "                  max_columns=np.inf, imwidth=4, imheight=4, share_axes=False):\n",
    "    \"\"\"Plot multiple images as subplots on a grid.\"\"\"\n",
    "    if titles is None:\n",
    "        titles = [''] *len(images)\n",
    "    assert len(images) == len(titles)\n",
    "    n_images = len(images)\n",
    "    n_cols = min(max_columns, n_images)\n",
    "    n_rows = int(np.ceil(n_images / n_cols))\n",
    "    fig, axes = plt.subplots(\n",
    "        n_rows, n_cols, figsize=(n_cols * imwidth, n_rows * imheight),\n",
    "        squeeze=False, sharex=share_axes, sharey=share_axes)\n",
    "\n",
    "    axes = axes.flat\n",
    "    # Hide subplots without content\n",
    "    for ax in axes[n_images:]:\n",
    "        ax.axis('off')\n",
    "        \n",
    "    if not isinstance(colormap, (list,tuple)):\n",
    "        colormaps = [colormap]*n_images\n",
    "    else:\n",
    "        colormaps = colormap\n",
    "\n",
    "    for ax, image, title, cmap in zip(axes, images, titles, colormaps):\n",
    "        ax.imshow(image, cmap=cmap)\n",
    "        ax.set_title(title)\n",
    "        ax.get_xaxis().set_visible(False)\n",
    "        ax.get_yaxis().set_visible(False)\n",
    "        \n",
    "    fig.tight_layout()\n",
    "        \n",
    "def load_image(f_name):\n",
    "    return imageio.imread(f_name, as_gray=True).astype(np.float32)/255\n",
    "\n",
    "def convolve_with_two(image, kernel1, kernel2):\n",
    "    \"\"\"Apply two filters, one after the other.\"\"\"\n",
    "    image = ndimage.convolve(image, kernel1)\n",
    "    image = ndimage.convolve(image, kernel2)   \n",
    "    return image\n",
    "\n",
    "def gauss(x, sigma):\n",
    "    return 1 / np.sqrt(2 * np.pi) / sigma * np.exp(- x**2 / 2 / sigma**2)\n",
    "\n",
    "# derivative of Gaussian w.r.t x\n",
    "def gaussdx(x, sigma):\n",
    "    return (-1 / np.sqrt(2 * np.pi) / sigma**3 * x *\n",
    "            np.exp(- x**2 / 2 / sigma**2))\n",
    "\n",
    "def gauss_derivs(image, sigma):\n",
    "    # The ceil of the scalar x is the smallest integer i, such that\n",
    "    # np.ceil(-1.7)==-1 but np.floor(-1.7)==-2\n",
    "    kernel_radius = np.ceil(3.0 * sigma)\n",
    "    # Np.newaxis comes in very handy when you want to explicitly convert an \n",
    "    # 1D array to either a row vector or a column vector\n",
    "    # numpy.newaxis is used to increase the dimension of the existing array by one more dimension\n",
    "    # 1D array will become 2D array and # 2D array will become 3D array\n",
    "    x = np.arange(-kernel_radius, kernel_radius + 1)[np.newaxis]\n",
    "    G = gauss(x, sigma)\n",
    "    D = gaussdx(x, sigma)\n",
    "    image_dx = convolve_with_two(image, D, G.T)\n",
    "    image_dy = convolve_with_two(image, G, D.T)\n",
    "    return image_dx, image_dy\n",
    "\n",
    "def gauss_filter(image, sigma):\n",
    "    kernel_radius = np.ceil(3.0 * sigma)\n",
    "    x = np.arange(-kernel_radius, kernel_radius + 1)[np.newaxis]\n",
    "    G = gauss(x, sigma)\n",
    "    return convolve_with_two(image, G, G.T)\n",
    "\n",
    "def gauss_second_derivs(image, sigma):\n",
    "    kernel_radius = np.ceil(3.0 * sigma)\n",
    "    x = np.arange(-kernel_radius, kernel_radius + 1)[np.newaxis]\n",
    "    G = gauss(x, sigma)\n",
    "    D = gaussdx(x, sigma)\n",
    "    \n",
    "    image_dx, image_dy = gauss_derivs(image, sigma)\n",
    "    image_dxx = convolve_with_two(image_dx, D, G.T)\n",
    "    image_dyy = convolve_with_two(image_dy, G, D.T)\n",
    "    image_dxy = convolve_with_two(image_dx, G, D.T)\n",
    "    return image_dxx, image_dxy, image_dyy\n",
    "\n",
    "def map_range(x, start, end):\n",
    "    \"\"\"Maps values `x` that are within the range [start, end) to the range [0, 1)\n",
    "    Values smaller than `start` become 0, values larger than `end` become\n",
    "    slightly smaller than 1.\"\"\"\n",
    "    # Given an interval, values outside the interval are clipped to the interval edges.\n",
    "    # For example, if an interval of [0, 1] is specified, values smaller than 0 become 0,\n",
    "    # and values larger than 1 become 1.\n",
    "    return np.clip((x-start)/(end-start), 0, 1-1e-10)\n",
    "\n",
    "# draw circle on the image on the specified point with an automatic selecting radius\n",
    "def draw_keypoints(image, points):\n",
    "    image = cv2.cvtColor(image, cv2.COLOR_GRAY2RGB)\n",
    "    radius = image.shape[1]//100+1\n",
    "    for x, y in points:\n",
    "        cv2.circle(image, (int(x), int(y)), radius, (1, 0, 0), thickness=2)        \n",
    "    return image\n",
    "\n",
    "# draw the lines that connects two features from two images which stuck together vertically im1|im2 \n",
    "def draw_point_matches(im1, im2, point_matches):\n",
    "    result = np.concatenate([im1, im2], axis=1)\n",
    "    result = (result.astype(float)*0.6).astype(np.uint8)\n",
    "    im1_width = im1.shape[1]\n",
    "    for x1, y1, x2, y2 in point_matches:\n",
    "        cv2.line(result, (x1, y1), (im1_width+x2, y2), \n",
    "                 color=(0,255,255), thickness=2, lineType=cv2.LINE_AA)\n",
    "    return result"
   ]
  },
  {
   "cell_type": "code",
   "execution_count": 17,
   "metadata": {},
   "outputs": [
    {
     "data": {
      "text/plain": [
       "((225, 300), (225, 300), (225, 300), (225, 300, 3))"
      ]
     },
     "execution_count": 17,
     "metadata": {},
     "output_type": "execute_result"
    }
   ],
   "source": [
    "\"compute_gradient_histogram\"\n",
    "gray_im = cv2.cvtColor(im, cv2.COLOR_RGB2GRAY).astype(float)\n",
    "dx, dy = gauss_derivs(gray_im, sigma=2.0)\n",
    "gray_im.shape , dx.shape , dy.shape ,im.shape "
   ]
  },
  {
   "cell_type": "code",
   "execution_count": 18,
   "metadata": {},
   "outputs": [
    {
     "data": {
      "text/plain": [
       "(225, 300, 2)"
      ]
     },
     "execution_count": 18,
     "metadata": {},
     "output_type": "execute_result"
    }
   ],
   "source": [
    "gradients = np.stack([dy, dx], axis=-1)\n",
    "gradients.shape"
   ]
  },
  {
   "cell_type": "code",
   "execution_count": 19,
   "metadata": {},
   "outputs": [
    {
     "data": {
      "text/plain": [
       "(16, 16)"
      ]
     },
     "execution_count": 19,
     "metadata": {},
     "output_type": "execute_result"
    }
   ],
   "source": [
    "histogram = np.zeros((n_bins,n_bins),dtype=np.float32)\n",
    "histogram.shape"
   ]
  },
  {
   "cell_type": "code",
   "execution_count": 20,
   "metadata": {},
   "outputs": [
    {
     "data": {
      "text/plain": [
       "(256,)"
      ]
     },
     "execution_count": 20,
     "metadata": {},
     "output_type": "execute_result"
    }
   ],
   "source": [
    "histogram.reshape(-1).shape"
   ]
  },
  {
   "cell_type": "code",
   "execution_count": 21,
   "metadata": {},
   "outputs": [],
   "source": [
    "binned_im = (im * n_bins).astype(int)\n",
    "np.add.at(histogram,(binned_im[:,0],binned_im[:,1]),1)"
   ]
  },
  {
   "cell_type": "markdown",
   "metadata": {},
   "source": [
    "# 4"
   ]
  },
  {
   "cell_type": "code",
   "execution_count": 22,
   "metadata": {},
   "outputs": [
    {
     "data": {
      "text/plain": [
       "6"
      ]
     },
     "execution_count": 22,
     "metadata": {},
     "output_type": "execute_result"
    }
   ],
   "source": [
    "hist2 = np.array([[1,2],\n",
    "                  [4,5]])\n",
    "hist1 = np.array([[13,9],\n",
    "                  [11,7]])\n",
    "np.sum([[0, 1], \n",
    "        [0, 5]])"
   ]
  },
  {
   "cell_type": "code",
   "execution_count": 23,
   "metadata": {},
   "outputs": [
    {
     "data": {
      "text/plain": [
       "'all the operation here are elementwise'"
      ]
     },
     "execution_count": 23,
     "metadata": {},
     "output_type": "execute_result"
    }
   ],
   "source": [
    "\"all the operation here are elementwise\""
   ]
  },
  {
   "cell_type": "code",
   "execution_count": 24,
   "metadata": {},
   "outputs": [
    {
     "data": {
      "text/plain": [
       "array([[12,  7],\n",
       "       [ 7,  2]])"
      ]
     },
     "execution_count": 24,
     "metadata": {},
     "output_type": "execute_result"
    }
   ],
   "source": [
    "hist1-hist2"
   ]
  },
  {
   "cell_type": "code",
   "execution_count": 25,
   "metadata": {},
   "outputs": [
    {
     "data": {
      "text/plain": [
       "array([[144,  49],\n",
       "       [ 49,   4]])"
      ]
     },
     "execution_count": 25,
     "metadata": {},
     "output_type": "execute_result"
    }
   ],
   "source": [
    "(hist1-hist2)**2"
   ]
  },
  {
   "cell_type": "code",
   "execution_count": 26,
   "metadata": {},
   "outputs": [
    {
     "data": {
      "text/plain": [
       "array([[10.28497964,  4.45414053],\n",
       "       [ 3.2664489 ,  0.33330556]])"
      ]
     },
     "execution_count": 26,
     "metadata": {},
     "output_type": "execute_result"
    }
   ],
   "source": [
    "(hist1-hist2)**2/(hist1+hist2+.001)"
   ]
  },
  {
   "cell_type": "markdown",
   "metadata": {},
   "source": [
    "# 5"
   ]
  },
  {
   "cell_type": "code",
   "execution_count": 27,
   "metadata": {},
   "outputs": [
    {
     "data": {
      "text/plain": [
       "((225, 300), (225, 300), (225, 300), (225, 300, 3))"
      ]
     },
     "execution_count": 27,
     "metadata": {},
     "output_type": "execute_result"
    }
   ],
   "source": [
    "dx, dy = gauss_derivs(gray_im, sigma=2.0)\n",
    "gray_im.shape , dx.shape , dy.shape ,im.shape "
   ]
  },
  {
   "cell_type": "code",
   "execution_count": 28,
   "metadata": {},
   "outputs": [
    {
     "data": {
      "text/plain": [
       "(225, 300, 2, 2)"
      ]
     },
     "execution_count": 28,
     "metadata": {},
     "output_type": "execute_result"
    }
   ],
   "source": [
    "height , width = gray_im.shape\n",
    "M = np.empty((height, width, 2, 2), dtype=float)\n",
    "M.shape"
   ]
  },
  {
   "cell_type": "code",
   "execution_count": 29,
   "metadata": {},
   "outputs": [
    {
     "data": {
      "text/plain": [
       "array([[0., 0.],\n",
       "       [0., 0.]])"
      ]
     },
     "execution_count": 29,
     "metadata": {},
     "output_type": "execute_result"
    }
   ],
   "source": [
    "M[0,0,:,:]"
   ]
  },
  {
   "cell_type": "code",
   "execution_count": 30,
   "metadata": {},
   "outputs": [],
   "source": [
    "M[:,:,0,1] = dx"
   ]
  },
  {
   "cell_type": "code",
   "execution_count": 31,
   "metadata": {},
   "outputs": [
    {
     "data": {
      "text/plain": [
       "array([[[[ 0.        ,  0.00023586],\n",
       "         [ 0.        ,  0.        ]],\n",
       "\n",
       "        [[ 0.        ,  0.00065272],\n",
       "         [ 0.        ,  0.        ]],\n",
       "\n",
       "        [[ 0.        ,  0.00094075],\n",
       "         [ 0.        ,  0.        ]],\n",
       "\n",
       "        ...,\n",
       "\n",
       "        [[ 0.        , -0.00111087],\n",
       "         [ 0.        ,  0.        ]],\n",
       "\n",
       "        [[ 0.        , -0.00074235],\n",
       "         [ 0.        ,  0.        ]],\n",
       "\n",
       "        [[ 0.        , -0.0002592 ],\n",
       "         [ 0.        ,  0.        ]]],\n",
       "\n",
       "\n",
       "       [[[ 0.        ,  0.00023024],\n",
       "         [ 0.        ,  0.        ]],\n",
       "\n",
       "        [[ 0.        ,  0.00063417],\n",
       "         [ 0.        ,  0.        ]],\n",
       "\n",
       "        [[ 0.        ,  0.00090839],\n",
       "         [ 0.        ,  0.        ]],\n",
       "\n",
       "        ...,\n",
       "\n",
       "        [[ 0.        , -0.00107937],\n",
       "         [ 0.        ,  0.        ]],\n",
       "\n",
       "        [[ 0.        , -0.00072019],\n",
       "         [ 0.        ,  0.        ]],\n",
       "\n",
       "        [[ 0.        , -0.00025269],\n",
       "         [ 0.        ,  0.        ]]],\n",
       "\n",
       "\n",
       "       [[[ 0.        ,  0.00021461],\n",
       "         [ 0.        ,  0.        ]],\n",
       "\n",
       "        [[ 0.        ,  0.00058806],\n",
       "         [ 0.        ,  0.        ]],\n",
       "\n",
       "        [[ 0.        ,  0.00083713],\n",
       "         [ 0.        ,  0.        ]],\n",
       "\n",
       "        ...,\n",
       "\n",
       "        [[ 0.        , -0.00102406],\n",
       "         [ 0.        ,  0.        ]],\n",
       "\n",
       "        [[ 0.        , -0.00068682],\n",
       "         [ 0.        ,  0.        ]],\n",
       "\n",
       "        [[ 0.        , -0.00024407],\n",
       "         [ 0.        ,  0.        ]]],\n",
       "\n",
       "\n",
       "       ...,\n",
       "\n",
       "\n",
       "       [[[ 0.        ,  0.00057935],\n",
       "         [ 0.        ,  0.        ]],\n",
       "\n",
       "        [[ 0.        ,  0.00154462],\n",
       "         [ 0.        ,  0.        ]],\n",
       "\n",
       "        [[ 0.        ,  0.00204357],\n",
       "         [ 0.        ,  0.        ]],\n",
       "\n",
       "        ...,\n",
       "\n",
       "        [[ 0.        , -0.00084431],\n",
       "         [ 0.        ,  0.        ]],\n",
       "\n",
       "        [[ 0.        , -0.00074232],\n",
       "         [ 0.        ,  0.        ]],\n",
       "\n",
       "        [[ 0.        , -0.00030297],\n",
       "         [ 0.        ,  0.        ]]],\n",
       "\n",
       "\n",
       "       [[[ 0.        ,  0.00056042],\n",
       "         [ 0.        ,  0.        ]],\n",
       "\n",
       "        [[ 0.        ,  0.00143746],\n",
       "         [ 0.        ,  0.        ]],\n",
       "\n",
       "        [[ 0.        ,  0.00173284],\n",
       "         [ 0.        ,  0.        ]],\n",
       "\n",
       "        ...,\n",
       "\n",
       "        [[ 0.        , -0.00125001],\n",
       "         [ 0.        ,  0.        ]],\n",
       "\n",
       "        [[ 0.        , -0.00105621],\n",
       "         [ 0.        ,  0.        ]],\n",
       "\n",
       "        [[ 0.        , -0.00042274],\n",
       "         [ 0.        ,  0.        ]]],\n",
       "\n",
       "\n",
       "       [[[ 0.        ,  0.00050154],\n",
       "         [ 0.        ,  0.        ]],\n",
       "\n",
       "        [[ 0.        ,  0.00124116],\n",
       "         [ 0.        ,  0.        ]],\n",
       "\n",
       "        [[ 0.        ,  0.00135441],\n",
       "         [ 0.        ,  0.        ]],\n",
       "\n",
       "        ...,\n",
       "\n",
       "        [[ 0.        , -0.00154277],\n",
       "         [ 0.        ,  0.        ]],\n",
       "\n",
       "        [[ 0.        , -0.0012816 ],\n",
       "         [ 0.        ,  0.        ]],\n",
       "\n",
       "        [[ 0.        , -0.00050858],\n",
       "         [ 0.        ,  0.        ]]]])"
      ]
     },
     "execution_count": 31,
     "metadata": {},
     "output_type": "execute_result"
    }
   ],
   "source": [
    "M"
   ]
  },
  {
   "cell_type": "code",
   "execution_count": 32,
   "metadata": {},
   "outputs": [
    {
     "data": {
      "text/plain": [
       "(225, 300)"
      ]
     },
     "execution_count": 32,
     "metadata": {},
     "output_type": "execute_result"
    }
   ],
   "source": [
    "trace_M = np.trace(M, axis1=2, axis2=3)\n",
    "trace_M.shape"
   ]
  },
  {
   "cell_type": "code",
   "execution_count": 33,
   "metadata": {},
   "outputs": [
    {
     "data": {
      "text/plain": [
       "(225, 300)"
      ]
     },
     "execution_count": 33,
     "metadata": {},
     "output_type": "execute_result"
    }
   ],
   "source": [
    "np.linalg.det(M).shape"
   ]
  },
  {
   "cell_type": "code",
   "execution_count": 34,
   "metadata": {},
   "outputs": [],
   "source": [
    "M[ : , : , 0, 0] = gauss_filter(dx * dx, 4)\n",
    "M[ : , : , 0, 1] = gauss_filter(dx * dy, 4)\n",
    "M[ : , : , 1, 0] = M[..., 0, 1]\n",
    "M[ : , : , 1, 1] = gauss_filter(dy * dy, 4)"
   ]
  },
  {
   "cell_type": "code",
   "execution_count": 35,
   "metadata": {},
   "outputs": [
    {
     "data": {
      "text/plain": [
       "(225, 300)"
      ]
     },
     "execution_count": 35,
     "metadata": {},
     "output_type": "execute_result"
    }
   ],
   "source": [
    "det_M = np.linalg.det(M)\n",
    "# trace_M.shape == (height, width) , here we trace the 2*2 matrix for \n",
    "# each pixel\n",
    "\"\"\" [[dx*dx,dx*dy],                 \n",
    "     [dy*dx,dy*dy]]\"\"\"\n",
    "trace_M = np.trace(M, axis1=2, axis2=3)\n",
    "\n",
    "scores = det_M - 0.06 * np.square(trace_M)\n",
    "scores.shape"
   ]
  },
  {
   "cell_type": "code",
   "execution_count": 50,
   "metadata": {},
   "outputs": [
    {
     "data": {
      "text/plain": [
       "array([[ True,  True],\n",
       "       [ True, False]])"
      ]
     },
     "execution_count": 50,
     "metadata": {},
     "output_type": "execute_result"
    }
   ],
   "source": [
    "a = np.array([[1,2],\n",
    "             [4,50]])\n",
    "b = np.array([[13,9],\n",
    "             [11,7]])\n",
    "c = np.array([[16,14],\n",
    "              [15,12]])\n",
    "d = np.array([[19,8],\n",
    "              [18,17]])\n",
    "# the comparison of two matrix is elementwise\n",
    "a < d "
   ]
  },
  {
   "cell_type": "code",
   "execution_count": 37,
   "metadata": {},
   "outputs": [
    {
     "data": {
      "text/plain": [
       "array([1, 2, 4])"
      ]
     },
     "execution_count": 37,
     "metadata": {},
     "output_type": "execute_result"
    }
   ],
   "source": [
    "a[a < d] "
   ]
  },
  {
   "cell_type": "code",
   "execution_count": 38,
   "metadata": {},
   "outputs": [
    {
     "data": {
      "text/plain": [
       "array([[ 0,  0],\n",
       "       [ 0, 50]])"
      ]
     },
     "execution_count": 38,
     "metadata": {},
     "output_type": "execute_result"
    }
   ],
   "source": [
    "# assign the elements of a to zero when they are smaller than\n",
    "# corresponding elements of matrix d\n",
    "a[a < d] = 0\n",
    "a"
   ]
  },
  {
   "cell_type": "code",
   "execution_count": 39,
   "metadata": {},
   "outputs": [
    {
     "data": {
      "text/plain": [
       "array([[ 0,  0,  0,  0],\n",
       "       [ 0, 13,  9,  0],\n",
       "       [ 0, 11,  7,  0],\n",
       "       [ 0,  0,  0,  0]])"
      ]
     },
     "execution_count": 39,
     "metadata": {},
     "output_type": "execute_result"
    }
   ],
   "source": [
    "np.pad(b, [(1, 1),(1, 1)], 'constant')"
   ]
  },
  {
   "cell_type": "code",
   "execution_count": 40,
   "metadata": {},
   "outputs": [
    {
     "name": "stdout",
     "output_type": "stream",
     "text": [
      "(225, 300) (227, 302) (225, 300)\n",
      "0 225 0 300\n",
      "(225, 300) (227, 302) (225, 300)\n",
      "1 226 0 300\n",
      "(225, 300) (227, 302) (225, 300)\n",
      "2 227 0 300\n",
      "(225, 300) (227, 302) (225, 300)\n",
      "0 225 1 301\n",
      "(225, 300) (227, 302) (225, 300)\n",
      "1 226 1 301\n",
      "(225, 300) (227, 302) (225, 300)\n",
      "2 227 1 301\n",
      "(225, 300) (227, 302) (225, 300)\n",
      "0 225 2 302\n",
      "(225, 300) (227, 302) (225, 300)\n",
      "1 226 2 302\n",
      "(225, 300) (227, 302) (225, 300)\n",
      "2 227 2 302\n"
     ]
    }
   ],
   "source": [
    "# the \"np.pad\" add pad of equal to zero to the border of matrix scores\n",
    "scores_padded = np.pad(scores, [(1, 1),(1, 1)], 'constant')\n",
    "h, w = scores_padded.shape\n",
    "scores_out = scores.copy()\n",
    "# \n",
    "for ox in [-1, 0, 1]:\n",
    "    for oy in [-1, 0, 1]:\n",
    "        neighbor_scores = scores_padded[1+oy:h-1+oy, 1+ox:w-1+ox]\n",
    "        print(neighbor_scores.shape,scores_padded.shape,scores.shape,)\n",
    "        scores_out[scores < neighbor_scores] = 0\n",
    "        print(1+oy,h-1+oy, 1+ox,w-1+ox)"
   ]
  },
  {
   "cell_type": "code",
   "execution_count": 41,
   "metadata": {},
   "outputs": [],
   "source": [
    "score_threshold=1e-8\n",
    "corner_ys, corner_xs = (scores > score_threshold).nonzero()"
   ]
  },
  {
   "cell_type": "code",
   "execution_count": 42,
   "metadata": {},
   "outputs": [
    {
     "data": {
      "text/plain": [
       "((3184,), (3184,), (225, 300))"
      ]
     },
     "execution_count": 42,
     "metadata": {},
     "output_type": "execute_result"
    }
   ],
   "source": [
    "corner_ys.shape , corner_xs.shape , scores.shape"
   ]
  },
  {
   "cell_type": "code",
   "execution_count": 43,
   "metadata": {},
   "outputs": [
    {
     "data": {
      "text/plain": [
       "67500"
      ]
     },
     "execution_count": 43,
     "metadata": {},
     "output_type": "execute_result"
    }
   ],
   "source": [
    "225* 300"
   ]
  },
  {
   "cell_type": "code",
   "execution_count": 44,
   "metadata": {},
   "outputs": [
    {
     "data": {
      "text/plain": [
       "(3184, 2)"
      ]
     },
     "execution_count": 44,
     "metadata": {},
     "output_type": "execute_result"
    }
   ],
   "source": [
    "np.stack([corner_xs, corner_ys], axis=1).shape"
   ]
  },
  {
   "cell_type": "code",
   "execution_count": 45,
   "metadata": {},
   "outputs": [
    {
     "data": {
      "text/plain": [
       "array([[False, False, False, ..., False, False, False],\n",
       "       [False, False, False, ..., False, False, False],\n",
       "       [False, False, False, ..., False, False, False],\n",
       "       ...,\n",
       "       [False, False, False, ..., False, False, False],\n",
       "       [False, False, False, ..., False, False, False],\n",
       "       [False, False, False, ..., False, False, False]])"
      ]
     },
     "execution_count": 45,
     "metadata": {},
     "output_type": "execute_result"
    }
   ],
   "source": [
    "scores > score_threshold"
   ]
  },
  {
   "cell_type": "code",
   "execution_count": 46,
   "metadata": {},
   "outputs": [],
   "source": [
    "x=(scores > score_threshold).nonzero()"
   ]
  },
  {
   "cell_type": "code",
   "execution_count": 47,
   "metadata": {},
   "outputs": [
    {
     "data": {
      "text/plain": [
       "(45, array([144, 145, 146, ..., 148, 149, 150]))"
      ]
     },
     "execution_count": 47,
     "metadata": {},
     "output_type": "execute_result"
    }
   ],
   "source": [
    "x[0][0] , x[1]"
   ]
  },
  {
   "cell_type": "markdown",
   "metadata": {},
   "source": [
    "# 7"
   ]
  },
  {
   "cell_type": "code",
   "execution_count": 53,
   "metadata": {},
   "outputs": [],
   "source": [
    "a = np.array([[1,2],\n",
    "             [4,50]])"
   ]
  },
  {
   "cell_type": "code",
   "execution_count": 54,
   "metadata": {},
   "outputs": [
    {
     "name": "stdout",
     "output_type": "stream",
     "text": [
      "[1 2]\n",
      "[ 4 50]\n"
     ]
    }
   ],
   "source": [
    "# for i, desc1 in enumerate(descriptors1)\n",
    "# dist gives all the items of row i\n",
    "for i, dist in enumerate(a):\n",
    "    print(dist)"
   ]
  },
  {
   "cell_type": "code",
   "execution_count": 55,
   "metadata": {},
   "outputs": [
    {
     "data": {
      "text/plain": [
       "array([[-8, -9],\n",
       "       [-5, 39]])"
      ]
     },
     "execution_count": 55,
     "metadata": {},
     "output_type": "execute_result"
    }
   ],
   "source": [
    "# descriptors2-desc1\n",
    "# if an array has the same column size of a matrix then we can\n",
    "# subtract/add it to the matrix and each rows of matrix will \n",
    "# subtracted/added by this array\n",
    "a - np.array([9,11])"
   ]
  },
  {
   "cell_type": "code",
   "execution_count": null,
   "metadata": {},
   "outputs": [],
   "source": [
    "# np.sum"
   ]
  },
  {
   "cell_type": "code",
   "execution_count": 58,
   "metadata": {},
   "outputs": [
    {
     "data": {
      "text/plain": [
       "array([[ 1,  2],\n",
       "       [ 4, 50]])"
      ]
     },
     "execution_count": 58,
     "metadata": {},
     "output_type": "execute_result"
    }
   ],
   "source": [
    "a"
   ]
  },
  {
   "cell_type": "code",
   "execution_count": 56,
   "metadata": {},
   "outputs": [
    {
     "data": {
      "text/plain": [
       "57"
      ]
     },
     "execution_count": 56,
     "metadata": {},
     "output_type": "execute_result"
    }
   ],
   "source": [
    "np.sum(a)"
   ]
  },
  {
   "cell_type": "code",
   "execution_count": 57,
   "metadata": {},
   "outputs": [
    {
     "data": {
      "text/plain": [
       "array([ 5, 52])"
      ]
     },
     "execution_count": 57,
     "metadata": {},
     "output_type": "execute_result"
    }
   ],
   "source": [
    "np.sum(a,axis=0)"
   ]
  },
  {
   "cell_type": "code",
   "execution_count": 59,
   "metadata": {},
   "outputs": [
    {
     "data": {
      "text/plain": [
       "array([ 3, 54])"
      ]
     },
     "execution_count": 59,
     "metadata": {},
     "output_type": "execute_result"
    }
   ],
   "source": [
    "np.sum(a,axis=1)"
   ]
  },
  {
   "cell_type": "code",
   "execution_count": 60,
   "metadata": {},
   "outputs": [
    {
     "data": {
      "text/plain": [
       "array([ 3, 54])"
      ]
     },
     "execution_count": 60,
     "metadata": {},
     "output_type": "execute_result"
    }
   ],
   "source": [
    "# np.sum((descriptors2 - desc1)**2/(descriptors2 + desc1 + eps), axis=-1)\n",
    "# sum over all columns, at the end it will be a vector with the same\n",
    "# row size as before\n",
    "np.sum(a,axis=-1)"
   ]
  },
  {
   "cell_type": "code",
   "execution_count": 70,
   "metadata": {},
   "outputs": [
    {
     "data": {
      "text/plain": [
       "array([[19,  8],\n",
       "       [18, 17]])"
      ]
     },
     "execution_count": 70,
     "metadata": {},
     "output_type": "execute_result"
    }
   ],
   "source": [
    "d"
   ]
  },
  {
   "cell_type": "code",
   "execution_count": 65,
   "metadata": {},
   "outputs": [
    {
     "data": {
      "text/plain": [
       "array([1, 1])"
      ]
     },
     "execution_count": 65,
     "metadata": {},
     "output_type": "execute_result"
    }
   ],
   "source": [
    "#np.argmin\n",
    "np.argmin(d,axis=1)"
   ]
  },
  {
   "cell_type": "code",
   "execution_count": 66,
   "metadata": {},
   "outputs": [
    {
     "data": {
      "text/plain": [
       "array([ 8, 17])"
      ]
     },
     "execution_count": 66,
     "metadata": {},
     "output_type": "execute_result"
    }
   ],
   "source": [
    "np.min(d, axis=1)"
   ]
  },
  {
   "cell_type": "code",
   "execution_count": 67,
   "metadata": {},
   "outputs": [
    {
     "data": {
      "text/plain": [
       "array([18,  8])"
      ]
     },
     "execution_count": 67,
     "metadata": {},
     "output_type": "execute_result"
    }
   ],
   "source": [
    "np.min(d, axis=0)"
   ]
  },
  {
   "cell_type": "code",
   "execution_count": 77,
   "metadata": {},
   "outputs": [
    {
     "name": "stdout",
     "output_type": "stream",
     "text": [
      "[15  8]\n",
      "[0 0]\n",
      "[ 8 16]\n",
      "[1 0]\n"
     ]
    }
   ],
   "source": [
    "e = np.array([[15,8],\n",
    "              [16,17]])\n",
    "print(np.min(e, axis=0)) # Minima along the first axis\n",
    "print(np.argmin(e, axis=0)) # Minima along the first axis\n",
    "\n",
    "\n",
    "print(np.min(e, axis=1)) # Minima along the second axis\n",
    "print(np.argmin(e, axis=1))"
   ]
  },
  {
   "cell_type": "code",
   "execution_count": 74,
   "metadata": {},
   "outputs": [
    {
     "data": {
      "text/plain": [
       "array([1, 2])"
      ]
     },
     "execution_count": 74,
     "metadata": {},
     "output_type": "execute_result"
    }
   ],
   "source": [
    "np.amin(a, axis=0)# Minima along the first axis"
   ]
  },
  {
   "cell_type": "code",
   "execution_count": 75,
   "metadata": {},
   "outputs": [
    {
     "data": {
      "text/plain": [
       "array([1, 4])"
      ]
     },
     "execution_count": 75,
     "metadata": {},
     "output_type": "execute_result"
    }
   ],
   "source": [
    "np.amin(a, axis=1)# Minima along the second axis"
   ]
  },
  {
   "cell_type": "code",
   "execution_count": 97,
   "metadata": {},
   "outputs": [
    {
     "name": "stdout",
     "output_type": "stream",
     "text": [
      "[1 3 2]\n",
      "[1 1 1]\n"
     ]
    }
   ],
   "source": [
    "distances = np.array([[6,4,5],\n",
    "                      [1,3,2],\n",
    "                      [9,7,8]])\n",
    "\n",
    "print(np.min(distances, axis=0)) # Minima along the first axis , in each column\n",
    "print(np.argmin(distances, axis=0)) # Minima along the first axis"
   ]
  },
  {
   "cell_type": "code",
   "execution_count": 98,
   "metadata": {},
   "outputs": [
    {
     "name": "stdout",
     "output_type": "stream",
     "text": [
      "[1 0 1]\n",
      "[4 1 7]\n"
     ]
    }
   ],
   "source": [
    "closest_ids = np.argmin(distances, axis=1)\n",
    "closest_dists = np.min(distances, axis=1)\n",
    "print(np.argmin(distances, axis=1))\n",
    "print(np.min(distances, axis=1)) # Minima along the second axis, in each row\n"
   ]
  },
  {
   "cell_type": "code",
   "execution_count": 99,
   "metadata": {},
   "outputs": [
    {
     "name": "stdout",
     "output_type": "stream",
     "text": [
      "[1 0 2]\n",
      "[0 1 1]\n"
     ]
    }
   ],
   "source": [
    "ids1 = np.argsort(closest_dists)\n",
    "print(ids1)\n",
    "ids2 = closest_ids[ids1]\n",
    "print(ids2)\n"
   ]
  },
  {
   "cell_type": "code",
   "execution_count": 107,
   "metadata": {},
   "outputs": [
    {
     "name": "stdout",
     "output_type": "stream",
     "text": [
      "4 1\n",
      "1 0\n",
      "7 1\n"
     ]
    }
   ],
   "source": [
    "for i in range(3):\n",
    "    # for each row shows the minimum member of it\n",
    "    print(distances[i,closest_ids[i]],closest_ids[i])"
   ]
  },
  {
   "cell_type": "code",
   "execution_count": 108,
   "metadata": {},
   "outputs": [
    {
     "name": "stdout",
     "output_type": "stream",
     "text": [
      "[6 4 4] 1\n",
      "[1 3 3] 0\n",
      "[9 7 7] 1\n"
     ]
    }
   ],
   "source": [
    "for i in range(3):\n",
    "    # for each row shows the minimum member of it\n",
    "    print(distances[i,ids2],closest_ids[i])"
   ]
  },
  {
   "cell_type": "markdown",
   "metadata": {},
   "source": [
    "# 8"
   ]
  },
  {
   "cell_type": "markdown",
   "metadata": {},
   "source": [
    "numpy.allclose(a, b, rtol=1e-05, atol=1e-08, equal_nan=False)[source]\n",
    "Returns True if two arrays are element-wise equal within a tolerance."
   ]
  },
  {
   "cell_type": "code",
   "execution_count": 116,
   "metadata": {},
   "outputs": [
    {
     "name": "stdout",
     "output_type": "stream",
     "text": [
      "False\n"
     ]
    },
    {
     "data": {
      "text/plain": [
       "True"
      ]
     },
     "execution_count": 116,
     "metadata": {},
     "output_type": "execute_result"
    }
   ],
   "source": [
    "# two arrays are not equal so the equality shows False\n",
    "print([2.1,3.20001]==[2.1000004,3.2])\n",
    "# we can compare two arrays with some tolerance\n",
    "np.allclose([2.1,3.20001],[2.1000004,3.2])"
   ]
  },
  {
   "cell_type": "markdown",
   "metadata": {},
   "source": [
    "numpy.linalg.svd(a, full_matrices=True, compute_uv=True, hermitian=False)"
   ]
  },
  {
   "cell_type": "code",
   "execution_count": 128,
   "metadata": {},
   "outputs": [],
   "source": [
    "np.random.seed(42)\n",
    "a = np.random.randn(9, 6)# + 1j*np.random.randn(9, 6)\n",
    "b = np.random.randn(2, 7, 8, 3) #+ 1j*np.random.randn(2, 7, 8, 3)"
   ]
  },
  {
   "cell_type": "code",
   "execution_count": 132,
   "metadata": {},
   "outputs": [
    {
     "data": {
      "text/plain": [
       "array([[ 0.497, -0.138,  0.648,  1.523, -0.234, -0.234],\n",
       "       [ 1.579,  0.767, -0.469,  0.543, -0.463, -0.466],\n",
       "       [ 0.242, -1.913, -1.725, -0.562, -1.013,  0.314],\n",
       "       [-0.908, -1.412,  1.466, -0.226,  0.068, -1.425],\n",
       "       [-0.544,  0.111, -1.151,  0.376, -0.601, -0.292],\n",
       "       [-0.602,  1.852, -0.013, -1.058,  0.823, -1.221],\n",
       "       [ 0.209, -1.96 , -1.328,  0.197,  0.738,  0.171],\n",
       "       [-0.116, -0.301, -1.479, -0.72 , -0.461,  1.057],\n",
       "       [ 0.344, -1.763,  0.324, -0.385, -0.677,  0.612]])"
      ]
     },
     "execution_count": 132,
     "metadata": {},
     "output_type": "execute_result"
    }
   ],
   "source": [
    "a=np.round(a,3)\n",
    "a"
   ]
  },
  {
   "cell_type": "code",
   "execution_count": 155,
   "metadata": {},
   "outputs": [
    {
     "data": {
      "text/plain": [
       "((9, 9), (6,), (6, 6))"
      ]
     },
     "execution_count": 155,
     "metadata": {},
     "output_type": "execute_result"
    }
   ],
   "source": [
    "u, s, vh = np.linalg.svd(a, full_matrices=True)\n",
    "u.shape, s.shape, vh.shape"
   ]
  },
  {
   "cell_type": "code",
   "execution_count": 135,
   "metadata": {},
   "outputs": [
    {
     "data": {
      "text/plain": [
       "array([[-0.096,  0.793,  0.461,  0.044,  0.228, -0.308],\n",
       "       [ 0.196,  0.581, -0.727, -0.116, -0.074,  0.276],\n",
       "       [-0.617, -0.058, -0.186, -0.708,  0.229, -0.165],\n",
       "       [ 0.044, -0.11 , -0.451,  0.328,  0.159, -0.806],\n",
       "       [ 0.101,  0.083,  0.096, -0.317, -0.863, -0.358],\n",
       "       [-0.748,  0.103, -0.11 ,  0.525, -0.346,  0.152]])"
      ]
     },
     "execution_count": 135,
     "metadata": {},
     "output_type": "execute_result"
    }
   ],
   "source": [
    "np.round(vh,3)"
   ]
  },
  {
   "cell_type": "code",
   "execution_count": 141,
   "metadata": {},
   "outputs": [
    {
     "data": {
      "text/plain": [
       "array([[-0.096,  0.196, -0.617,  0.044,  0.101, -0.748],\n",
       "       [ 0.793,  0.581, -0.058, -0.11 ,  0.083,  0.103],\n",
       "       [ 0.461, -0.727, -0.186, -0.451,  0.096, -0.11 ],\n",
       "       [ 0.044, -0.116, -0.708,  0.328, -0.317,  0.525],\n",
       "       [ 0.228, -0.074,  0.229,  0.159, -0.863, -0.346],\n",
       "       [-0.308,  0.276, -0.165, -0.806, -0.358,  0.152]])"
      ]
     },
     "execution_count": 141,
     "metadata": {},
     "output_type": "execute_result"
    }
   ],
   "source": [
    "np.round(vh.T,3)"
   ]
  },
  {
   "cell_type": "code",
   "execution_count": 136,
   "metadata": {},
   "outputs": [
    {
     "data": {
      "text/plain": [
       "array([4.533, 3.315, 2.703, 1.825, 1.526, 1.358])"
      ]
     },
     "execution_count": 136,
     "metadata": {},
     "output_type": "execute_result"
    }
   ],
   "source": [
    "np.round(s,3)"
   ]
  },
  {
   "cell_type": "code",
   "execution_count": 137,
   "metadata": {},
   "outputs": [
    {
     "data": {
      "text/plain": [
       "array([[ 0.05 , -0.205, -0.559,  0.217, -0.063,  0.286, -0.514,  0.482,\n",
       "         0.112],\n",
       "       [ 0.067,  0.283, -0.498,  0.371,  0.376, -0.498,  0.347,  0.105,\n",
       "        -0.094],\n",
       "       [-0.593,  0.126,  0.146,  0.219,  0.419, -0.063, -0.534, -0.248,\n",
       "        -0.191],\n",
       "       [ 0.019, -0.735,  0.289,  0.296,  0.297,  0.01 ,  0.234,  0.239,\n",
       "        -0.297],\n",
       "       [-0.093,  0.216,  0.069,  0.409,  0.228,  0.667,  0.345, -0.089,\n",
       "         0.386],\n",
       "       [ 0.45 ,  0.209,  0.52 ,  0.297,  0.101, -0.283, -0.324,  0.262,\n",
       "         0.362],\n",
       "       [-0.455, -0.049,  0.086,  0.475, -0.675, -0.249,  0.129,  0.079,\n",
       "         0.131],\n",
       "       [-0.303,  0.388,  0.219, -0.256,  0.046,  0.118,  0.158,  0.731,\n",
       "        -0.261],\n",
       "       [-0.362, -0.28 , -0.057, -0.364,  0.266, -0.257,  0.095,  0.143,\n",
       "         0.699]])"
      ]
     },
     "execution_count": 137,
     "metadata": {},
     "output_type": "execute_result"
    }
   ],
   "source": [
    "np.round(u,3)"
   ]
  },
  {
   "cell_type": "code",
   "execution_count": 142,
   "metadata": {},
   "outputs": [],
   "source": [
    "vhT=vh.T"
   ]
  },
  {
   "cell_type": "code",
   "execution_count": 145,
   "metadata": {},
   "outputs": [
    {
     "data": {
      "text/plain": [
       "array([[-0.43589492,  0.64825285, -1.66913965,  0.08020863,  0.15439405,\n",
       "        -1.01516342],\n",
       "       [ 3.59639643,  1.92568305, -0.15732386, -0.20120958,  0.12735544,\n",
       "         0.13950981],\n",
       "       [ 2.08755973, -2.41167091, -0.50204125, -0.82224603,  0.14576739,\n",
       "        -0.14890495],\n",
       "       [ 0.19809814, -0.3835655 , -1.91323262,  0.59914467, -0.48307519,\n",
       "         0.71295975],\n",
       "       [ 1.03455354, -0.24371501,  0.6200855 ,  0.28927397, -1.31756555,\n",
       "        -0.46912633],\n",
       "       [-1.39821126,  0.91568609, -0.44611768, -1.47125178, -0.54624736,\n",
       "         0.20689927]])"
      ]
     },
     "execution_count": 145,
     "metadata": {},
     "output_type": "execute_result"
    }
   ],
   "source": [
    "vhT*s"
   ]
  },
  {
   "cell_type": "markdown",
   "metadata": {},
   "source": [
    "numpy.array_str(a, max_line_width=None, precision=None, suppress_small=None)"
   ]
  },
  {
   "cell_type": "code",
   "execution_count": 147,
   "metadata": {},
   "outputs": [
    {
     "data": {
      "text/plain": [
       "'[0 1 2]'"
      ]
     },
     "execution_count": 147,
     "metadata": {},
     "output_type": "execute_result"
    }
   ],
   "source": [
    "np.array_str(np.arange(3))"
   ]
  },
  {
   "cell_type": "code",
   "execution_count": 154,
   "metadata": {},
   "outputs": [],
   "source": [
    "u1, s1, vh1 = np.linalg.svd(a)"
   ]
  },
  {
   "cell_type": "code",
   "execution_count": 156,
   "metadata": {},
   "outputs": [
    {
     "data": {
      "text/plain": [
       "array([[0., 0., 0., 0., 0., 0., 0., 0., 0.],\n",
       "       [0., 0., 0., 0., 0., 0., 0., 0., 0.],\n",
       "       [0., 0., 0., 0., 0., 0., 0., 0., 0.],\n",
       "       [0., 0., 0., 0., 0., 0., 0., 0., 0.],\n",
       "       [0., 0., 0., 0., 0., 0., 0., 0., 0.],\n",
       "       [0., 0., 0., 0., 0., 0., 0., 0., 0.],\n",
       "       [0., 0., 0., 0., 0., 0., 0., 0., 0.],\n",
       "       [0., 0., 0., 0., 0., 0., 0., 0., 0.],\n",
       "       [0., 0., 0., 0., 0., 0., 0., 0., 0.]])"
      ]
     },
     "execution_count": 156,
     "metadata": {},
     "output_type": "execute_result"
    }
   ],
   "source": [
    "u-u1"
   ]
  },
  {
   "cell_type": "code",
   "execution_count": 157,
   "metadata": {},
   "outputs": [
    {
     "data": {
      "text/plain": [
       "array([0., 0., 0., 0., 0., 0.])"
      ]
     },
     "execution_count": 157,
     "metadata": {},
     "output_type": "execute_result"
    }
   ],
   "source": [
    "s1-s"
   ]
  },
  {
   "cell_type": "code",
   "execution_count": 158,
   "metadata": {},
   "outputs": [
    {
     "data": {
      "text/plain": [
       "array([[0., 0., 0., 0., 0., 0.],\n",
       "       [0., 0., 0., 0., 0., 0.],\n",
       "       [0., 0., 0., 0., 0., 0.],\n",
       "       [0., 0., 0., 0., 0., 0.],\n",
       "       [0., 0., 0., 0., 0., 0.],\n",
       "       [0., 0., 0., 0., 0., 0.]])"
      ]
     },
     "execution_count": 158,
     "metadata": {},
     "output_type": "execute_result"
    }
   ],
   "source": [
    "vh-vh1"
   ]
  },
  {
   "cell_type": "code",
   "execution_count": 163,
   "metadata": {},
   "outputs": [
    {
     "data": {
      "text/plain": [
       "((1288, 1288), (9,), (9, 9))"
      ]
     },
     "execution_count": 163,
     "metadata": {},
     "output_type": "execute_result"
    }
   ],
   "source": [
    "point_matches = np.random.random((644,4))\n",
    "n_matches = 644\n",
    "A = np.empty((n_matches*2, 9))\n",
    "for i, (x1, y1, x2, y2) in enumerate(point_matches):\n",
    "\n",
    "\n",
    "    A[2*i] = [x1, y1, 1, 0, 0, 0, -x1*x2, -x2*y1, -x2]\n",
    "    A[2*i+1] = [0, 0, 0, x1, y1, 1, -y2*x1, -y1*y2, -y2]\n",
    "# YOUR CODE HERE\n",
    "\n",
    "u, s, vh = np.linalg.svd(A)\n",
    "#vt = vh.T\n",
    "H = vh[:,-1]/vh[-1,-1]\n",
    "u.shape ,s.shape , vh.shape"
   ]
  },
  {
   "cell_type": "code",
   "execution_count": 164,
   "metadata": {},
   "outputs": [
    {
     "data": {
      "text/plain": [
       "array([38.59303005, 31.05978952, 10.2839282 ,  9.03482209,  7.30416874,\n",
       "        7.26589773,  5.85002026,  2.35671584,  1.95850354])"
      ]
     },
     "execution_count": 164,
     "metadata": {},
     "output_type": "execute_result"
    }
   ],
   "source": [
    "s"
   ]
  },
  {
   "cell_type": "code",
   "execution_count": 165,
   "metadata": {},
   "outputs": [
    {
     "data": {
      "text/plain": [
       "array([[-2.34319237e-01, -2.29013015e-01, -4.52051315e-01,\n",
       "        -2.33520714e-01, -2.26819087e-01, -4.50839534e-01,\n",
       "         2.55344225e-01,  2.52899616e-01,  4.99903137e-01],\n",
       "       [ 2.97640282e-01,  2.88273443e-01,  5.71242087e-01,\n",
       "        -2.98861498e-01, -2.89308290e-01, -5.73556738e-01,\n",
       "         2.39145639e-04, -2.28619865e-03,  1.03223931e-03],\n",
       "       [ 2.51200884e-01,  1.12541075e-01,  3.45819186e-01,\n",
       "         2.41498847e-01,  1.52274565e-01,  3.28489978e-01,\n",
       "         2.53497504e-01,  3.69614781e-01,  6.43700816e-01],\n",
       "       [-3.29900265e-01,  4.38089106e-01,  2.11099158e-02,\n",
       "        -3.39064679e-01,  4.49218697e-01,  2.21468068e-02,\n",
       "         4.42082946e-01, -4.15768847e-01,  1.15083801e-01],\n",
       "       [ 1.83316913e-01, -6.00509889e-01,  2.09683895e-01,\n",
       "        -5.76552275e-01,  2.68442273e-01,  1.66143450e-01,\n",
       "         2.27785419e-01,  1.86199820e-01, -2.07801469e-01],\n",
       "       [-5.37020672e-01,  9.11184980e-02,  2.61662330e-01,\n",
       "        -1.76859225e-02, -5.35583190e-01,  3.05678782e-01,\n",
       "         3.35888421e-01,  2.72998123e-01, -2.58627865e-01],\n",
       "       [ 4.61624453e-01,  3.65732062e-01, -4.16741690e-01,\n",
       "        -4.30855343e-01, -3.53175796e-01,  4.10976552e-01,\n",
       "         9.45133980e-03,  2.44673933e-03,  1.01378778e-02],\n",
       "       [-2.50071258e-01,  3.50515350e-01, -4.58883080e-02,\n",
       "        -2.59091110e-01,  3.46891336e-01, -4.21490879e-02,\n",
       "        -4.62154017e-01,  6.34430900e-01, -8.46780264e-02],\n",
       "       [-2.94855264e-01, -1.85278829e-01,  2.47147053e-01,\n",
       "        -3.12047246e-01, -1.89450479e-01,  2.60113052e-01,\n",
       "        -5.44718333e-01, -3.38896495e-01,  4.52943482e-01]])"
      ]
     },
     "execution_count": 165,
     "metadata": {},
     "output_type": "execute_result"
    }
   ],
   "source": [
    "vh"
   ]
  },
  {
   "cell_type": "code",
   "execution_count": null,
   "metadata": {},
   "outputs": [],
   "source": [
    "ab"
   ]
  }
 ],
 "metadata": {
  "kernelspec": {
   "display_name": "Python 3",
   "language": "python",
   "name": "python3"
  },
  "language_info": {
   "codemirror_mode": {
    "name": "ipython",
    "version": 3
   },
   "file_extension": ".py",
   "mimetype": "text/x-python",
   "name": "python",
   "nbconvert_exporter": "python",
   "pygments_lexer": "ipython3",
   "version": "3.6.10"
  }
 },
 "nbformat": 4,
 "nbformat_minor": 4
}
